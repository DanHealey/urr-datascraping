{
 "cells": [
  {
   "attachments": {},
   "cell_type": "markdown",
   "metadata": {},
   "source": [
    "# Sentiment Analysis of Forum Posts relating to Ukraine-Russia War"
   ]
  },
  {
   "cell_type": "code",
   "execution_count": 7,
   "metadata": {},
   "outputs": [],
   "source": [
    "# Imports\n",
    "import pandas as pd\n"
   ]
  },
  {
   "cell_type": "code",
   "execution_count": 8,
   "metadata": {},
   "outputs": [
    {
     "data": {
      "text/plain": [
       "(12503, 8)"
      ]
     },
     "execution_count": 8,
     "metadata": {},
     "output_type": "execute_result"
    }
   ],
   "source": [
    "DATA_FILE = \"data.csv\"\n",
    "df = pd.read_csv(DATA_FILE)\n",
    "#df['created_utc']=(pd.to_datetime(df['created_utc'], unit='s'))\n",
    "df.shape "
   ]
  },
  {
   "cell_type": "code",
   "execution_count": 9,
   "metadata": {},
   "outputs": [
    {
     "data": {
      "text/html": [
       "<div>\n",
       "<style scoped>\n",
       "    .dataframe tbody tr th:only-of-type {\n",
       "        vertical-align: middle;\n",
       "    }\n",
       "\n",
       "    .dataframe tbody tr th {\n",
       "        vertical-align: top;\n",
       "    }\n",
       "\n",
       "    .dataframe thead th {\n",
       "        text-align: right;\n",
       "    }\n",
       "</style>\n",
       "<table border=\"1\" class=\"dataframe\">\n",
       "  <thead>\n",
       "    <tr style=\"text-align: right;\">\n",
       "      <th></th>\n",
       "      <th>id</th>\n",
       "      <th>pov</th>\n",
       "      <th>title</th>\n",
       "      <th>score</th>\n",
       "      <th>author</th>\n",
       "      <th>num_comments</th>\n",
       "      <th>url</th>\n",
       "      <th>created_utc</th>\n",
       "    </tr>\n",
       "  </thead>\n",
       "  <tbody>\n",
       "    <tr>\n",
       "      <th>0</th>\n",
       "      <td>ym9vw8</td>\n",
       "      <td>UA</td>\n",
       "      <td>NYT Kherson braces for battle as RF administra...</td>\n",
       "      <td>1</td>\n",
       "      <td>MardukSyria</td>\n",
       "      <td>0</td>\n",
       "      <td>https://www.nytimes.com/2022/11/03/world/europ...</td>\n",
       "      <td>1667594654</td>\n",
       "    </tr>\n",
       "    <tr>\n",
       "      <th>1</th>\n",
       "      <td>ym9t1i</td>\n",
       "      <td>RU</td>\n",
       "      <td>Russia’s Wagner Group commanders cut off convi...</td>\n",
       "      <td>1</td>\n",
       "      <td>Quitetheninja</td>\n",
       "      <td>1</td>\n",
       "      <td>https://www.msn.com/en-CA/news/world/russias-w...</td>\n",
       "      <td>1667594459</td>\n",
       "    </tr>\n",
       "    <tr>\n",
       "      <th>2</th>\n",
       "      <td>ym9qej</td>\n",
       "      <td>RU</td>\n",
       "      <td>Convict recruits are tortured and executed in ...</td>\n",
       "      <td>1</td>\n",
       "      <td>Quitetheninja</td>\n",
       "      <td>0</td>\n",
       "      <td>https://inews.co.uk/news/world/russia-wagner-g...</td>\n",
       "      <td>1667594289</td>\n",
       "    </tr>\n",
       "    <tr>\n",
       "      <th>3</th>\n",
       "      <td>ym9i5s</td>\n",
       "      <td>UA</td>\n",
       "      <td>love me some himars</td>\n",
       "      <td>1</td>\n",
       "      <td>9ND79</td>\n",
       "      <td>0</td>\n",
       "      <td>https://v.redd.it/ew9eb2bqkxx91</td>\n",
       "      <td>1667593756</td>\n",
       "    </tr>\n",
       "    <tr>\n",
       "      <th>4</th>\n",
       "      <td>ym96n2</td>\n",
       "      <td>UA</td>\n",
       "      <td>3 Ukrainian jets Allegedly MiG29 flying Eastwa...</td>\n",
       "      <td>1</td>\n",
       "      <td>TheHunter920</td>\n",
       "      <td>0</td>\n",
       "      <td>https://twitter.com/jacklosh/status/1588543987...</td>\n",
       "      <td>1667593002</td>\n",
       "    </tr>\n",
       "  </tbody>\n",
       "</table>\n",
       "</div>"
      ],
      "text/plain": [
       "       id pov                                              title  score  \\\n",
       "0  ym9vw8  UA  NYT Kherson braces for battle as RF administra...      1   \n",
       "1  ym9t1i  RU  Russia’s Wagner Group commanders cut off convi...      1   \n",
       "2  ym9qej  RU  Convict recruits are tortured and executed in ...      1   \n",
       "3  ym9i5s  UA                                love me some himars      1   \n",
       "4  ym96n2  UA  3 Ukrainian jets Allegedly MiG29 flying Eastwa...      1   \n",
       "\n",
       "          author  num_comments  \\\n",
       "0    MardukSyria             0   \n",
       "1  Quitetheninja             1   \n",
       "2  Quitetheninja             0   \n",
       "3          9ND79             0   \n",
       "4   TheHunter920             0   \n",
       "\n",
       "                                                 url  created_utc  \n",
       "0  https://www.nytimes.com/2022/11/03/world/europ...   1667594654  \n",
       "1  https://www.msn.com/en-CA/news/world/russias-w...   1667594459  \n",
       "2  https://inews.co.uk/news/world/russia-wagner-g...   1667594289  \n",
       "3                    https://v.redd.it/ew9eb2bqkxx91   1667593756  \n",
       "4  https://twitter.com/jacklosh/status/1588543987...   1667593002  "
      ]
     },
     "execution_count": 9,
     "metadata": {},
     "output_type": "execute_result"
    }
   ],
   "source": [
    "df.head()"
   ]
  },
  {
   "cell_type": "code",
   "execution_count": 10,
   "metadata": {},
   "outputs": [
    {
     "data": {
      "text/html": [
       "<div>\n",
       "<style scoped>\n",
       "    .dataframe tbody tr th:only-of-type {\n",
       "        vertical-align: middle;\n",
       "    }\n",
       "\n",
       "    .dataframe tbody tr th {\n",
       "        vertical-align: top;\n",
       "    }\n",
       "\n",
       "    .dataframe thead th {\n",
       "        text-align: right;\n",
       "    }\n",
       "</style>\n",
       "<table border=\"1\" class=\"dataframe\">\n",
       "  <thead>\n",
       "    <tr style=\"text-align: right;\">\n",
       "      <th></th>\n",
       "      <th>id</th>\n",
       "      <th>pov</th>\n",
       "      <th>title</th>\n",
       "      <th>score</th>\n",
       "      <th>author</th>\n",
       "      <th>num_comments</th>\n",
       "      <th>url</th>\n",
       "      <th>created_utc</th>\n",
       "    </tr>\n",
       "  </thead>\n",
       "  <tbody>\n",
       "    <tr>\n",
       "      <th>12492</th>\n",
       "      <td>tic2c5</td>\n",
       "      <td>CIVILIAN</td>\n",
       "      <td>NaN</td>\n",
       "      <td>3</td>\n",
       "      <td>YungChaky</td>\n",
       "      <td>0</td>\n",
       "      <td>https://i.redd.it/y5bnskrxigo81.jpg</td>\n",
       "      <td>1647746558</td>\n",
       "    </tr>\n",
       "    <tr>\n",
       "      <th>12494</th>\n",
       "      <td>tic08e</td>\n",
       "      <td>KHARKIV,</td>\n",
       "      <td>NaN</td>\n",
       "      <td>1</td>\n",
       "      <td>YungChaky</td>\n",
       "      <td>0</td>\n",
       "      <td>https://v.redd.it/erha013aigo81</td>\n",
       "      <td>1647746349</td>\n",
       "    </tr>\n",
       "    <tr>\n",
       "      <th>12502</th>\n",
       "      <td>tiaqd1</td>\n",
       "      <td>RUKRAINERUSSIAREPORT</td>\n",
       "      <td>NaN</td>\n",
       "      <td>1</td>\n",
       "      <td>[deleted]</td>\n",
       "      <td>0</td>\n",
       "      <td>https://www.reddit.com/r/UkraineRussiaReport/c...</td>\n",
       "      <td>1647741962</td>\n",
       "    </tr>\n",
       "  </tbody>\n",
       "</table>\n",
       "</div>"
      ],
      "text/plain": [
       "           id                   pov title  score     author  num_comments  \\\n",
       "12492  tic2c5              CIVILIAN   NaN      3  YungChaky             0   \n",
       "12494  tic08e              KHARKIV,   NaN      1  YungChaky             0   \n",
       "12502  tiaqd1  RUKRAINERUSSIAREPORT   NaN      1  [deleted]             0   \n",
       "\n",
       "                                                     url  created_utc  \n",
       "12492                https://i.redd.it/y5bnskrxigo81.jpg   1647746558  \n",
       "12494                    https://v.redd.it/erha013aigo81   1647746349  \n",
       "12502  https://www.reddit.com/r/UkraineRussiaReport/c...   1647741962  "
      ]
     },
     "execution_count": 10,
     "metadata": {},
     "output_type": "execute_result"
    }
   ],
   "source": [
    "df.loc[df[\"title\"].isna()]"
   ]
  },
  {
   "cell_type": "code",
   "execution_count": 11,
   "metadata": {},
   "outputs": [
    {
     "data": {
      "text/plain": [
       "UA                      6565\n",
       "RU                      5568\n",
       "CIV                      190\n",
       "NO                        55\n",
       "UKRAINE                   15\n",
       "RUSSIAN                   15\n",
       "UC                        14\n",
       "UKR                       12\n",
       "RUPOV                      9\n",
       "RUS                        7\n",
       "UNSURE                     6\n",
       "UAPOV                      5\n",
       "UKRAINIAN                  4\n",
       "BEST                       4\n",
       "A                          3\n",
       "FROM                       2\n",
       "THE                        2\n",
       "CIVILIAN                   2\n",
       "RUSSIA                     2\n",
       "REDDIT                     2\n",
       "MAP                        1\n",
       "REBOOT                     1\n",
       "ATTACKS                    1\n",
       "EDUCATIONAL                1\n",
       "TRANSPORTATION             1\n",
       "DESTROYED                  1\n",
       "KHARKIV,                   1\n",
       "FOOTAGES                   1\n",
       "CHINA                      1\n",
       "MAIN                       1\n",
       "UPDATE                     1\n",
       "GEORGIANS                  1\n",
       "UA.POV                     1\n",
       "MOD                        1\n",
       "UAPOV.                     1\n",
       "ORDINARY                   1\n",
       "UARUCIV                    1\n",
       "RUUA                       1\n",
       "WHAT                       1\n",
       "UA.POV.                    1\n",
       "RUKRAINERUSSIAREPORT       1\n",
       "Name: pov, dtype: int64"
      ]
     },
     "execution_count": 11,
     "metadata": {},
     "output_type": "execute_result"
    }
   ],
   "source": [
    "df[\"pov\"].value_counts()"
   ]
  },
  {
   "cell_type": "code",
   "execution_count": 12,
   "metadata": {},
   "outputs": [],
   "source": [
    "ukraine_povs = [\"UKRAINE\", \"UC\", \"UKR\", \"UAPOV\", \"UKRAINIAN\", \"UA.POV\", \"UAPOV.\", \"UA.POV.\"]\n",
    "russian_povs = [\"RUSSIAN\", \"RUPOV\", \"RUS\", \"RUSSIA\"]\n",
    "\n",
    "df.loc[ df[\"pov\"].isin(ukraine_povs), \"pov\"] = \"UA\"\n",
    "df.loc[ df[\"pov\"].isin(russian_povs), \"pov\"] = \"RU\"\n",
    "df.loc[ ~df[\"pov\"].isin([\"UA\", \"RU\"]), \"pov\"] = \"NONE\"\n",
    "\n",
    "df[\"pov\"].value_counts()\n",
    "df.to_csv(\"parsed_data.csv\")"
   ]
  }
 ],
 "metadata": {
  "kernelspec": {
   "display_name": "DL-S23 (3.10)",
   "language": "python",
   "name": "csci1470"
  },
  "language_info": {
   "codemirror_mode": {
    "name": "ipython",
    "version": 3
   },
   "file_extension": ".py",
   "mimetype": "text/x-python",
   "name": "python",
   "nbconvert_exporter": "python",
   "pygments_lexer": "ipython3",
   "version": "3.9.13"
  },
  "orig_nbformat": 4
 },
 "nbformat": 4,
 "nbformat_minor": 2
}
