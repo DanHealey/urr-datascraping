{
 "cells": [
  {
   "attachments": {},
   "cell_type": "markdown",
   "metadata": {},
   "source": [
    "# Sentiment Analysis of Forum Posts relating to Ukraine-Russia War"
   ]
  },
  {
   "cell_type": "code",
   "execution_count": 2,
   "metadata": {},
   "outputs": [],
   "source": [
    "# Imports\n",
    "import pandas as pd\n"
   ]
  },
  {
   "cell_type": "code",
   "execution_count": 6,
   "metadata": {},
   "outputs": [
    {
     "data": {
      "text/plain": [
       "(11981, 9)"
      ]
     },
     "execution_count": 6,
     "metadata": {},
     "output_type": "execute_result"
    }
   ],
   "source": [
    "DATA_FILE = \"data.csv\"\n",
    "df = pd.read_csv(DATA_FILE)\n",
    "df.shape"
   ]
  },
  {
   "cell_type": "code",
   "execution_count": 7,
   "metadata": {},
   "outputs": [
    {
     "data": {
      "text/html": [
       "<div>\n",
       "<style scoped>\n",
       "    .dataframe tbody tr th:only-of-type {\n",
       "        vertical-align: middle;\n",
       "    }\n",
       "\n",
       "    .dataframe tbody tr th {\n",
       "        vertical-align: top;\n",
       "    }\n",
       "\n",
       "    .dataframe thead th {\n",
       "        text-align: right;\n",
       "    }\n",
       "</style>\n",
       "<table border=\"1\" class=\"dataframe\">\n",
       "  <thead>\n",
       "    <tr style=\"text-align: right;\">\n",
       "      <th></th>\n",
       "      <th>id</th>\n",
       "      <th>pov</th>\n",
       "      <th>title</th>\n",
       "      <th>score</th>\n",
       "      <th>author</th>\n",
       "      <th>num_comments</th>\n",
       "      <th>created_utc</th>\n",
       "      <th>url</th>\n",
       "      <th>permalink</th>\n",
       "    </tr>\n",
       "  </thead>\n",
       "  <tbody>\n",
       "    <tr>\n",
       "      <th>0</th>\n",
       "      <td>zfpo3b</td>\n",
       "      <td>UA</td>\n",
       "      <td>Russian BTR is destroyed near Svatovo</td>\n",
       "      <td>1</td>\n",
       "      <td>Worldly-Product-87</td>\n",
       "      <td>0</td>\n",
       "      <td>https://v.redd.it/q70q965xwl4a1</td>\n",
       "      <td>1670475882</td>\n",
       "      <td>NaN</td>\n",
       "    </tr>\n",
       "    <tr>\n",
       "      <th>1</th>\n",
       "      <td>zfp8rl</td>\n",
       "      <td>UA</td>\n",
       "      <td>Ukrainian soldiers fire Stingers at a helicop...</td>\n",
       "      <td>1</td>\n",
       "      <td>[deleted]</td>\n",
       "      <td>0</td>\n",
       "      <td>NaN</td>\n",
       "      <td>1670474652</td>\n",
       "      <td>NaN</td>\n",
       "    </tr>\n",
       "    <tr>\n",
       "      <th>2</th>\n",
       "      <td>zfp82x</td>\n",
       "      <td>UA</td>\n",
       "      <td>2 Ukrainian ATGMs hit a Russian post andor ch...</td>\n",
       "      <td>1</td>\n",
       "      <td>BlissfullyHigh3</td>\n",
       "      <td>0</td>\n",
       "      <td>https://v.redd.it/vv7yc7e3tl4a1</td>\n",
       "      <td>1670474596</td>\n",
       "      <td>NaN</td>\n",
       "    </tr>\n",
       "    <tr>\n",
       "      <th>3</th>\n",
       "      <td>zfou8v</td>\n",
       "      <td>UA</td>\n",
       "      <td>Seized RU BMP2 now fights for the Ukrainian side</td>\n",
       "      <td>1</td>\n",
       "      <td>Worldly-Product-87</td>\n",
       "      <td>0</td>\n",
       "      <td>https://v.redd.it/gza3ox9upl4a1</td>\n",
       "      <td>1670473517</td>\n",
       "      <td>NaN</td>\n",
       "    </tr>\n",
       "    <tr>\n",
       "      <th>4</th>\n",
       "      <td>zfoswj</td>\n",
       "      <td>UA</td>\n",
       "      <td>Shot down Russian Mi8Mi17 and multiple bodies ...</td>\n",
       "      <td>1</td>\n",
       "      <td>Worldly-Product-87</td>\n",
       "      <td>0</td>\n",
       "      <td>https://v.redd.it/0lw71jzkpl4a1</td>\n",
       "      <td>1670473416</td>\n",
       "      <td>NaN</td>\n",
       "    </tr>\n",
       "  </tbody>\n",
       "</table>\n",
       "</div>"
      ],
      "text/plain": [
       "       id pov                                              title  score  \\\n",
       "0  zfpo3b  UA              Russian BTR is destroyed near Svatovo      1   \n",
       "1  zfp8rl  UA   Ukrainian soldiers fire Stingers at a helicop...      1   \n",
       "2  zfp82x  UA   2 Ukrainian ATGMs hit a Russian post andor ch...      1   \n",
       "3  zfou8v  UA   Seized RU BMP2 now fights for the Ukrainian side      1   \n",
       "4  zfoswj  UA  Shot down Russian Mi8Mi17 and multiple bodies ...      1   \n",
       "\n",
       "               author  num_comments                      created_utc  \\\n",
       "0  Worldly-Product-87             0  https://v.redd.it/q70q965xwl4a1   \n",
       "1           [deleted]             0                              NaN   \n",
       "2     BlissfullyHigh3             0  https://v.redd.it/vv7yc7e3tl4a1   \n",
       "3  Worldly-Product-87             0  https://v.redd.it/gza3ox9upl4a1   \n",
       "4  Worldly-Product-87             0  https://v.redd.it/0lw71jzkpl4a1   \n",
       "\n",
       "          url  permalink  \n",
       "0  1670475882        NaN  \n",
       "1  1670474652        NaN  \n",
       "2  1670474596        NaN  \n",
       "3  1670473517        NaN  \n",
       "4  1670473416        NaN  "
      ]
     },
     "execution_count": 7,
     "metadata": {},
     "output_type": "execute_result"
    }
   ],
   "source": [
    "df.head()"
   ]
  },
  {
   "cell_type": "code",
   "execution_count": 4,
   "metadata": {},
   "outputs": [
    {
     "data": {
      "text/plain": [
       "UA          6426\n",
       "RU          5357\n",
       "CIV          124\n",
       "NO            33\n",
       "UKR           10\n",
       "RUPOV          9\n",
       "UAPOV          5\n",
       "BEST           4\n",
       "REDDIT         2\n",
       "UA.POV         1\n",
       "ORDINARY       1\n",
       "WHAT           1\n",
       "UARUCIV        1\n",
       "RUUA           1\n",
       "THE            1\n",
       "UA.POV.        1\n",
       "MOD            1\n",
       "RUS            1\n",
       "UKRAINE        1\n",
       "UAPOV.         1\n",
       "Name: pov, dtype: int64"
      ]
     },
     "execution_count": 4,
     "metadata": {},
     "output_type": "execute_result"
    }
   ],
   "source": [
    "df[\"pov\"].value_counts()"
   ]
  }
 ],
 "metadata": {
  "kernelspec": {
   "display_name": "DL-S23 (3.10)",
   "language": "python",
   "name": "csci1470"
  },
  "language_info": {
   "codemirror_mode": {
    "name": "ipython",
    "version": 3
   },
   "file_extension": ".py",
   "mimetype": "text/x-python",
   "name": "python",
   "nbconvert_exporter": "python",
   "pygments_lexer": "ipython3",
   "version": "3.9.13"
  },
  "orig_nbformat": 4
 },
 "nbformat": 4,
 "nbformat_minor": 2
}
