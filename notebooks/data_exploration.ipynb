{
 "cells": [
  {
   "attachments": {},
   "cell_type": "markdown",
   "metadata": {},
   "source": [
    "# Sentiment Analysis of Forum Posts relating to Ukraine-Russia War"
   ]
  },
  {
   "cell_type": "code",
   "execution_count": 26,
   "metadata": {},
   "outputs": [],
   "source": [
    "# Imports\n",
    "import pandas as pd\n"
   ]
  },
  {
   "cell_type": "code",
   "execution_count": null,
   "metadata": {},
   "outputs": [],
   "source": [
    "DATA_FILE = \"parsed_data.csv\"\n",
    "df = pd.read_csv(DATA_FILE)\n",
    "#df['created_utc']=(pd.to_datetime(df['created_utc'], unit='s'))\n",
    "df.shape "
   ]
  },
  {
   "cell_type": "code",
   "execution_count": null,
   "metadata": {},
   "outputs": [],
   "source": [
    "df.head()"
   ]
  },
  {
   "cell_type": "code",
   "execution_count": null,
   "metadata": {},
   "outputs": [],
   "source": [
    "df.loc[df[\"title\"].isna()]"
   ]
  },
  {
   "cell_type": "code",
   "execution_count": null,
   "metadata": {},
   "outputs": [],
   "source": [
    "df[\"pov\"].value_counts()"
   ]
  },
  {
   "cell_type": "code",
   "execution_count": null,
   "metadata": {},
   "outputs": [],
   "source": [
    "# ukraine_povs = [\"UKRAINE\", \"UC\", \"UKR\", \"UAPOV\", \"UKRAINIAN\", \"UA.POV\", \"UAPOV.\", \"UA.POV.\"]\n",
    "# russian_povs = [\"RUSSIAN\", \"RUPOV\", \"RUS\", \"RUSSIA\"]\n",
    "\n",
    "# df.loc[ df[\"pov\"].isin(ukraine_povs), \"pov\"] = \"UA\"\n",
    "# df.loc[ df[\"pov\"].isin(russian_povs), \"pov\"] = \"RU\"\n",
    "# df.loc[ ~df[\"pov\"].isin([\"UA\", \"RU\"]), \"pov\"] = \"NONE\"\n",
    "\n",
    "df[\"title\"] = df[\"title\"].str.strip(\" \\t\\n|,.\\\"\\':;\")\n",
    "\n",
    "df = df.iloc[: , 4:]"
   ]
  },
  {
   "cell_type": "code",
   "execution_count": null,
   "metadata": {},
   "outputs": [],
   "source": [
    "df.to_csv(\"parsed_data.csv\")\n",
    "df[\"pov\"].value_counts()"
   ]
  }
 ],
 "metadata": {
  "kernelspec": {
   "display_name": "DL-S23 (3.10)",
   "language": "python",
   "name": "csci1470"
  },
  "language_info": {
   "codemirror_mode": {
    "name": "ipython",
    "version": 3
   },
   "file_extension": ".py",
   "mimetype": "text/x-python",
   "name": "python",
   "nbconvert_exporter": "python",
   "pygments_lexer": "ipython3",
   "version": "3.9.13"
  },
  "orig_nbformat": 4
 },
 "nbformat": 4,
 "nbformat_minor": 2
}
